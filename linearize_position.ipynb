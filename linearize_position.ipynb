{
 "cells": [
  {
   "cell_type": "code",
   "execution_count": 11,
   "metadata": {
    "collapsed": true
   },
   "outputs": [],
   "source": [
    "import pandas as pd\n",
    "import numpy as np\n",
    "# import matplotlib.pyplot as plt\n",
    "# import seaborn as sns\n",
    "import scipy.io\n",
    "import networkx as nx\n",
    "import plot_linear_distance as pld\n",
    "import loren_frank_data_processing as lfdp\n",
    "import linPosPipeline as lpp\n",
    "import sys\n",
    "import logging\n",
    "import matlab.engine\n",
    "import matplotlib.pyplot as plt"
   ]
  },
  {
   "cell_type": "code",
   "execution_count": 15,
   "metadata": {
    "collapsed": true
   },
   "outputs": [],
   "source": [
    "def load_data(coordinate_file_path, position_structure):\n",
    "    tree_task = scipy.io.loadmat(coordinate_file_path, position_structure)\n",
    "    eng = matlab.engine.start_matlab()\n",
    "    position, posLabel, midPoint_Position = eng.retrievePositionPy2(position_structure, nargout = 3)\n",
    "    eng.quit()\n",
    "    return tree_task, position, posLabel, midPoint"
   ]
  },
  {
   "cell_type": "code",
   "execution_count": 5,
   "metadata": {},
   "outputs": [],
   "source": [
    "track_graph, track_segments, center_well_id = lpp.createTrackGraph(tree_task)"
   ]
  },
  {
   "cell_type": "code",
   "execution_count": 17,
   "metadata": {},
   "outputs": [],
   "source": [
    "def bin_position_tree_task_haight(position, track_graph, track_segments, center_well_id):    \n",
    "    track_segment_id = lfdp.track_segment_classification.classify_track_segments(\n",
    "        track_graph, position,\n",
    "        sensor_std_dev=10, route_euclidean_distance_scaling=1)\n",
    "    linear_distance = lfdp.track_segment_classification.calculate_linear_distance(\n",
    "            track_graph, track_segment_id, center_well_id, position)\n",
    "    linear_distance_cm = linear_distance / 4.37\n",
    "    track_smooth = pld.smooth_track_segs(track_segment_id)\n",
    "    linear_bin = pld.bin_position(linear_distance_cm, track_smooth)"
   ]
  },
  {
   "cell_type": "code",
   "execution_count": null,
   "metadata": {
    "collapsed": true
   },
   "outputs": [],
   "source": [
    "pld.plot_linear_distance(linear_distance_cm, linear_bin, position, (4800,5800))"
   ]
  }
 ],
 "metadata": {
  "kernelspec": {
   "display_name": "Python 3",
   "language": "python",
   "name": "python3"
  },
  "language_info": {
   "codemirror_mode": {
    "name": "ipython",
    "version": 3
   },
   "file_extension": ".py",
   "mimetype": "text/x-python",
   "name": "python",
   "nbconvert_exporter": "python",
   "pygments_lexer": "ipython3",
   "version": "3.6.3"
  }
 },
 "nbformat": 4,
 "nbformat_minor": 2
}
